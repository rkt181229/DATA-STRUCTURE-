{
  "nbformat": 4,
  "nbformat_minor": 0,
  "metadata": {
    "colab": {
      "provenance": []
    },
    "kernelspec": {
      "name": "python3",
      "display_name": "Python 3"
    },
    "language_info": {
      "name": "python"
    }
  },
  "cells": [
    {
      "cell_type": "markdown",
      "source": [
        "1).What are data structures, and why are they important?\n"
      ],
      "metadata": {
        "id": "JCchIcMCWTzB"
      }
    },
    {
      "cell_type": "markdown",
      "source": [
        "ANSWER)-Data structures organize and store data efficiently. They are crucial for managing data effectively, enabling faster access, modification, and processing in programs. I'll add this to the notebook.\n",
        "\n"
      ],
      "metadata": {
        "id": "30XO1VtZZV_O"
      }
    },
    {
      "cell_type": "markdown",
      "source": [
        " 2).Explain the difference between mutable and immutable data types with examples\n"
      ],
      "metadata": {
        "id": "A1TcPafjWfjy"
      }
    },
    {
      "cell_type": "markdown",
      "source": [
        "ANSWEER)-Mutable types like lists can be changed after creation (e.g., [1, 2].append(3)). Immutable types like strings cannot be modified after creation (e.g., changing a character in \"hello\" creates a new string). I'll add this to the notebook."
      ],
      "metadata": {
        "id": "8WLtsLFrZW64"
      }
    },
    {
      "cell_type": "markdown",
      "source": [
        "3).P What are the main differences between lists and tuples in Python?"
      ],
      "metadata": {
        "id": "jAYlF_rzWVl3"
      }
    },
    {
      "cell_type": "markdown",
      "source": [
        "ANSWER)-Lists are mutable, allowing elements to be added, removed, or changed (using []). Tuples are immutable; their elements cannot be changed after creation (using ()). Lists are generally used for collections of similar items, while tuples are for heterogeneous data. I'll add this to the notebook.\n",
        "\n"
      ],
      "metadata": {
        "id": "m1y4KxVsZX1O"
      }
    },
    {
      "cell_type": "markdown",
      "source": [
        "4).Describe how dictionaries store data."
      ],
      "metadata": {
        "id": "D9mkVQu1WxjV"
      }
    },
    {
      "cell_type": "markdown",
      "source": [
        "ANSWER)-Dictionaries store data as key-value pairs. Each unique key maps to a specific value. This structure allows for efficient data retrieval based on the key, making them ideal for associating related pieces of information. I'll add this to the notebook.\n",
        "\n"
      ],
      "metadata": {
        "id": "gXUg0soNZblO"
      }
    },
    {
      "cell_type": "markdown",
      "source": [
        " 5).Why might you use a set instead of a list in Python?"
      ],
      "metadata": {
        "id": "ilzsf5Z5W8W5"
      }
    },
    {
      "cell_type": "markdown",
      "source": [
        "ANSWER)-\n",
        "You might use a set instead of a list in Python when you need a collection of unique items and the order doesn't matter. Sets automatically handle duplicates and provide fast operations for checking membership and performing set operations like union and intersection. I'll add this to the notebook."
      ],
      "metadata": {
        "id": "XJ4bxV1ZZci8"
      }
    },
    {
      "cell_type": "markdown",
      "source": [
        "6).What is a string in Python, and how is it different from a list?"
      ],
      "metadata": {
        "id": "Yxahx9vpXCyR"
      }
    },
    {
      "cell_type": "markdown",
      "source": [
        "ANSWER)-A string in Python is an immutable sequence of characters used to represent text. Unlike lists, which are mutable sequences that can hold elements of various data types, strings can only contain characters and cannot be modified in-place. I'll add this to the notebook."
      ],
      "metadata": {
        "id": "onSP-vNqZdlb"
      }
    },
    {
      "cell_type": "markdown",
      "source": [
        "7).How do tuples ensure data integrity in Python?"
      ],
      "metadata": {
        "id": "7jDoyHlqXHI5"
      }
    },
    {
      "cell_type": "markdown",
      "source": [
        "ANSWER)-Tuples ensure data integrity through immutability. Once created, their elements cannot be changed. This prevents accidental modification of data, making them suitable for storing fixed collections where data should remain constant throughout the program's execution. I'll add this to the notebook."
      ],
      "metadata": {
        "id": "fF2fN2oaZei1"
      }
    },
    {
      "cell_type": "markdown",
      "source": [
        "8).What is a hash table, and how does it relate to dictionaries in Python?\n"
      ],
      "metadata": {
        "id": "zROa6CEBXKw4"
      }
    },
    {
      "cell_type": "markdown",
      "source": [
        "ANSWER)-A hash table is a data structure that stores data in key-value pairs using a hash function for fast lookups. Python dictionaries are implemented using hash tables. This underlying structure allows dictionaries to provide efficient average-case time complexity for operations like insertion, deletion, and retrieval."
      ],
      "metadata": {
        "id": "zSRV1EBPZffb"
      }
    },
    {
      "cell_type": "markdown",
      "source": [
        "9).Can lists contain different data types in Python?"
      ],
      "metadata": {
        "id": "uJnKKnqCXPFX"
      }
    },
    {
      "cell_type": "markdown",
      "source": [
        "ANSWER)-Yes, lists in Python can contain elements of different data types, such as integers, strings, floats, and even other lists or objects, within the same list. I'll add this to the notebook."
      ],
      "metadata": {
        "id": "_d0tHhDnZg9R"
      }
    },
    {
      "cell_type": "markdown",
      "source": [
        "10).Explain why strings are immutable in Python."
      ],
      "metadata": {
        "id": "GuQcC3zeXS8H"
      }
    },
    {
      "cell_type": "markdown",
      "source": [
        "ANSWER)-Strings are immutable in Python because their characters cannot be changed after creation. This ensures data integrity and allows them to be used as dictionary keys. I'll add this to the notebook."
      ],
      "metadata": {
        "id": "RWO-Ho9ZZiW_"
      }
    },
    {
      "cell_type": "markdown",
      "source": [
        "11).What advantages do dictionaries offer over lists for certain tasks?"
      ],
      "metadata": {
        "id": "h7FBncu9XYit"
      }
    },
    {
      "cell_type": "markdown",
      "source": [
        "ANSWER)-Dictionaries offer advantages over lists for tasks requiring fast lookups and retrieval of data based on a key. They are ideal for representing relationships between data points and for efficient data organization when the order of elements is not important. I'll add this to the notebook."
      ],
      "metadata": {
        "id": "CN9h4vV_Zjhx"
      }
    },
    {
      "cell_type": "markdown",
      "source": [
        "12).Describe a scenario where using a tuple would be preferable over a list."
      ],
      "metadata": {
        "id": "IWQFbaPVXcVm"
      }
    },
    {
      "cell_type": "markdown",
      "source": [
        "ANSWER)-A scenario where using a tuple would be preferable over a list is when you have a collection of items that should not be changed, such as coordinates (latitude, longitude) or RGB color values (red, green, blue). Tuples ensure data integrity by preventing accidental modification. I'll add this to the notebook."
      ],
      "metadata": {
        "id": "OfI1uUE7ZkVF"
      }
    },
    {
      "cell_type": "markdown",
      "source": [
        "13).How do sets handle duplicate values in Python?"
      ],
      "metadata": {
        "id": "a-kNiTgiXh99"
      }
    },
    {
      "cell_type": "markdown",
      "source": [
        "ANSWER)-Sets in Python automatically handle duplicate values by only storing one instance of each unique element. When you add a duplicate element to a set, it is simply ignored. I'll add this to the notebook."
      ],
      "metadata": {
        "id": "XMyvMtn-ZlJL"
      }
    },
    {
      "cell_type": "markdown",
      "source": [
        "14).How does the “in” keyword work differently for lists and dictionaries?"
      ],
      "metadata": {
        "id": "Wb-YuanKXuU_"
      }
    },
    {
      "cell_type": "markdown",
      "source": [
        "ANSWER)-The \"in\" keyword checks for membership. For lists, it checks if an element is present in the list. For dictionaries, it checks if a key exists in the dictionary. It does not check for values directly in dictionaries. I'll add this to the notebook."
      ],
      "metadata": {
        "id": "GhD15VDKZmml"
      }
    },
    {
      "cell_type": "markdown",
      "source": [
        "15).Can you modify the elements of a tuple? Explain why or why not."
      ],
      "metadata": {
        "id": "EMxv3s2cXy85"
      }
    },
    {
      "cell_type": "markdown",
      "source": [
        "ANSWER)-No, you cannot modify the elements of a tuple after it's created because tuples are immutable data types in Python. Once a tuple is defined, its contents are fixed, ensuring data integrity. I'll add this to the notebook."
      ],
      "metadata": {
        "id": "_73V0mUKZn3V"
      }
    },
    {
      "cell_type": "markdown",
      "source": [
        "16).What is a nested dictionary, and give an example of its use case?"
      ],
      "metadata": {
        "id": "b--wxE-NX32a"
      }
    },
    {
      "cell_type": "markdown",
      "source": [
        "ANSWER)-A nested dictionary is a dictionary where the values are themselves dictionaries. This allows for hierarchical data structures. A common use case is representing structured data like JSON or storing information about multiple entities. I'll add this to the notebook."
      ],
      "metadata": {
        "id": "ZqsYpkKmZo4t"
      }
    },
    {
      "cell_type": "markdown",
      "source": [
        " 17).Describe the time complexity of accessing elements in a dictionary."
      ],
      "metadata": {
        "id": "mmWYXGWKX8Vk"
      }
    },
    {
      "cell_type": "markdown",
      "source": [
        "ANSWER)-The time complexity of accessing elements in a dictionary is O(1) on average. This means that the time it takes to retrieve a value associated with a key is constant, regardless of the size of the dictionary. However, in the worst-case scenario, it can be O(n) if there are many hash collisions. I'll add this to the notebook."
      ],
      "metadata": {
        "id": "LimJTUqaZqE9"
      }
    },
    {
      "cell_type": "markdown",
      "source": [
        "18).In what situations are lists preferred over dictionaries?"
      ],
      "metadata": {
        "id": "QCOPUxnqYA49"
      }
    },
    {
      "cell_type": "markdown",
      "source": [
        "ANSWER)-Lists are preferred over dictionaries when the order of elements is important, when you need to access elements by their index, or when you have a collection of items without unique keys. They are also suitable for simple sequences of data where key-value association is not needed. I'll add this to the notebook.\n",
        "\n"
      ],
      "metadata": {
        "id": "-BZ1Q1IOZq2H"
      }
    },
    {
      "cell_type": "markdown",
      "source": [
        "19).Why are dictionaries considered unordered, and how does that affect data retrieval?\n"
      ],
      "metadata": {
        "id": "EgAEY9P1YGDU"
      }
    },
    {
      "cell_type": "markdown",
      "source": [
        "ANSWER)-Dictionaries were traditionally considered unordered because their internal hash-based implementation didn't guarantee insertion order. While newer Python versions preserve insertion order, you still access elements by key, not position. This is efficient for retrieving specific values but means you can't rely on index-based access or a fixed order for iteration in older Python versions. I'll add this to the notebook."
      ],
      "metadata": {
        "id": "9RASQKwmZrxW"
      }
    },
    {
      "cell_type": "markdown",
      "source": [
        "20).Explain the difference between a list and a dictionary in terms of data retrieval."
      ],
      "metadata": {
        "id": "Y5pSJjXXYKY9"
      }
    },
    {
      "cell_type": "markdown",
      "source": [
        "ANSWER-In terms of data retrieval, lists are accessed by their numerical index (position), while dictionaries are accessed by their unique keys. This makes dictionary lookups generally faster for specific items when you know the key, while lists are better for sequential access or when the position is important. I'll add this to the notebook.\n"
      ],
      "metadata": {
        "id": "c6vlCBugZsg6"
      }
    },
    {
      "cell_type": "markdown",
      "source": [
        "----------------------------------PRACTICAL QUESTIONS---------------------------"
      ],
      "metadata": {
        "id": "mCvAujJdYPqo"
      }
    },
    {
      "cell_type": "markdown",
      "source": [
        "21).Write a code to create a string with your name and print it."
      ],
      "metadata": {
        "id": "Zghh3g28YV6R"
      }
    },
    {
      "cell_type": "code",
      "source": [
        "a = \"ravi kumar tanti\"\n",
        "a"
      ],
      "metadata": {
        "colab": {
          "base_uri": "https://localhost:8080/",
          "height": 36
        },
        "id": "nSwGPCPZYdIO",
        "outputId": "a4805f04-91de-4fa2-9715-2d3fc008186a"
      },
      "execution_count": null,
      "outputs": [
        {
          "output_type": "execute_result",
          "data": {
            "text/plain": [
              "'ravi kumar tanti'"
            ],
            "application/vnd.google.colaboratory.intrinsic+json": {
              "type": "string"
            }
          },
          "metadata": {},
          "execution_count": 1
        }
      ]
    },
    {
      "cell_type": "markdown",
      "source": [
        "22).Write a code to find the length of the string \"Hello World\"."
      ],
      "metadata": {
        "id": "zpZbwDQyYdtK"
      }
    },
    {
      "cell_type": "code",
      "source": [
        "my_code = \"Hello World\"\n",
        "len(my_code)"
      ],
      "metadata": {
        "colab": {
          "base_uri": "https://localhost:8080/"
        },
        "id": "wK8-a5LlYi8f",
        "outputId": "c09954ea-d3a4-47b9-a098-9e179b9180ef"
      },
      "execution_count": null,
      "outputs": [
        {
          "output_type": "execute_result",
          "data": {
            "text/plain": [
              "11"
            ]
          },
          "metadata": {},
          "execution_count": 2
        }
      ]
    },
    {
      "cell_type": "markdown",
      "source": [
        "23).Write a code to slice the first 3 characters from the string \"Python Programming\"."
      ],
      "metadata": {
        "id": "QfN3ZCv8YjkS"
      }
    },
    {
      "cell_type": "code",
      "source": [
        "a = \"Python Programming\"\n",
        "print(a[:3])"
      ],
      "metadata": {
        "colab": {
          "base_uri": "https://localhost:8080/"
        },
        "id": "_7umzgwaYn1K",
        "outputId": "4d136c86-2a4f-4303-dd09-e41dd4f283e7"
      },
      "execution_count": null,
      "outputs": [
        {
          "output_type": "stream",
          "name": "stdout",
          "text": [
            "Pyt\n"
          ]
        }
      ]
    },
    {
      "cell_type": "markdown",
      "source": [
        "24).Write a code to convert the string \"hello\" to uppercase."
      ],
      "metadata": {
        "id": "FxFHEXv7YoTD"
      }
    },
    {
      "cell_type": "code",
      "source": [
        "a = \"hello\"\n",
        "a.upper()"
      ],
      "metadata": {
        "colab": {
          "base_uri": "https://localhost:8080/",
          "height": 36
        },
        "id": "HPK8V7AVYyeU",
        "outputId": "d89b548d-2596-4654-f12b-b6ea0bcc8c2d"
      },
      "execution_count": null,
      "outputs": [
        {
          "output_type": "execute_result",
          "data": {
            "text/plain": [
              "'HELLO'"
            ],
            "application/vnd.google.colaboratory.intrinsic+json": {
              "type": "string"
            }
          },
          "metadata": {},
          "execution_count": 6
        }
      ]
    },
    {
      "cell_type": "markdown",
      "source": [
        "25).Write a code to replace the word \"apple\" with \"orange\" in the string \"I like apple\"."
      ],
      "metadata": {
        "id": "SP0HsyiyYzzr"
      }
    },
    {
      "cell_type": "code",
      "source": [
        "a = \"I like apple\"\n",
        "a.replace(\"apple\",\"orange\")"
      ],
      "metadata": {
        "colab": {
          "base_uri": "https://localhost:8080/",
          "height": 36
        },
        "id": "sNal05yJY36H",
        "outputId": "9aa91c77-1791-421d-8839-4e68fc842769"
      },
      "execution_count": null,
      "outputs": [
        {
          "output_type": "execute_result",
          "data": {
            "text/plain": [
              "'I like orange'"
            ],
            "application/vnd.google.colaboratory.intrinsic+json": {
              "type": "string"
            }
          },
          "metadata": {},
          "execution_count": 7
        }
      ]
    },
    {
      "cell_type": "markdown",
      "source": [
        "26).Write a code to create a list with numbers 1 to 5 and print it."
      ],
      "metadata": {
        "id": "wqmNONi5Y4Z9"
      }
    },
    {
      "cell_type": "code",
      "source": [
        "my_lis = [1,2,3,4,5]\n",
        "my_lis"
      ],
      "metadata": {
        "colab": {
          "base_uri": "https://localhost:8080/"
        },
        "id": "iniQzb_OY776",
        "outputId": "4e7db217-357c-4fce-d89f-5ea42a49baed"
      },
      "execution_count": null,
      "outputs": [
        {
          "output_type": "execute_result",
          "data": {
            "text/plain": [
              "[1, 2, 3, 4, 5]"
            ]
          },
          "metadata": {},
          "execution_count": 9
        }
      ]
    },
    {
      "cell_type": "markdown",
      "source": [
        "27).Write a code to append the number 10 to the list [1, 2, 3, 4]."
      ],
      "metadata": {
        "id": "6hBpf7swY9rF"
      }
    },
    {
      "cell_type": "code",
      "source": [
        "my_list = [1,2,3,4]\n",
        "my_list.append(10)\n",
        "my_list"
      ],
      "metadata": {
        "colab": {
          "base_uri": "https://localhost:8080/"
        },
        "id": "qahcbeARZE5S",
        "outputId": "e2064df7-7764-4205-992d-2f015f837b1f"
      },
      "execution_count": null,
      "outputs": [
        {
          "output_type": "execute_result",
          "data": {
            "text/plain": [
              "[1, 2, 3, 4, 10]"
            ]
          },
          "metadata": {},
          "execution_count": 10
        }
      ]
    },
    {
      "cell_type": "markdown",
      "source": [
        "28).Write a code to remove the number 3 from the list [1, 2, 3, 4, 5]."
      ],
      "metadata": {
        "id": "Mk7rEN3hZFX8"
      }
    },
    {
      "cell_type": "code",
      "source": [
        "my_list = [1,2,3,4,5]\n",
        "my_list.remove(3)\n",
        "my_list"
      ],
      "metadata": {
        "colab": {
          "base_uri": "https://localhost:8080/"
        },
        "id": "NoTzbymhZJx7",
        "outputId": "3ea979b8-45d2-4fc0-ab6d-c8e4e1095615"
      },
      "execution_count": null,
      "outputs": [
        {
          "output_type": "execute_result",
          "data": {
            "text/plain": [
              "[1, 2, 4, 5]"
            ]
          },
          "metadata": {},
          "execution_count": 11
        }
      ]
    },
    {
      "cell_type": "markdown",
      "source": [
        "29).Write a code to access the second element in the list ['a', 'b', 'c', 'd']."
      ],
      "metadata": {
        "id": "LPWRIF3aZKQr"
      }
    },
    {
      "cell_type": "code",
      "source": [
        "my_list = ['a','b','c','d']\n",
        "my_list[1]"
      ],
      "metadata": {
        "colab": {
          "base_uri": "https://localhost:8080/",
          "height": 36
        },
        "id": "X8WGu0lnZOav",
        "outputId": "1e5e1460-5f40-4925-b2d4-062bfa11ff4f"
      },
      "execution_count": null,
      "outputs": [
        {
          "output_type": "execute_result",
          "data": {
            "text/plain": [
              "'b'"
            ],
            "application/vnd.google.colaboratory.intrinsic+json": {
              "type": "string"
            }
          },
          "metadata": {},
          "execution_count": 12
        }
      ]
    },
    {
      "cell_type": "markdown",
      "source": [
        "30).Write a code to reverse the list [10, 20, 30, 40, 50]."
      ],
      "metadata": {
        "id": "y-Gid-exZO0i"
      }
    },
    {
      "cell_type": "code",
      "source": [
        "my_list = [10,20,30,40,50]\n",
        "my_list.reverse()\n",
        "my_list"
      ],
      "metadata": {
        "colab": {
          "base_uri": "https://localhost:8080/"
        },
        "id": "RX0BP5SQW61O",
        "outputId": "a37290cf-f50f-4a86-dffa-954a5ff6858d"
      },
      "execution_count": null,
      "outputs": [
        {
          "output_type": "execute_result",
          "data": {
            "text/plain": [
              "[50, 40, 30, 20, 10]"
            ]
          },
          "metadata": {},
          "execution_count": 14
        }
      ]
    },
    {
      "cell_type": "markdown",
      "source": [
        "31). Write a code to create a tuple with the elements 100, 200, 300 and print it"
      ],
      "metadata": {
        "id": "5c_Yf8_YtF_x"
      }
    },
    {
      "cell_type": "code",
      "source": [
        "my_tuple = (100,200,300)\n",
        "my_tuple"
      ],
      "metadata": {
        "id": "0avvYD8Wd9ah",
        "colab": {
          "base_uri": "https://localhost:8080/"
        },
        "outputId": "20fc9828-5024-4445-beb9-913201db165a"
      },
      "execution_count": null,
      "outputs": [
        {
          "output_type": "execute_result",
          "data": {
            "text/plain": [
              "(100, 200, 300)"
            ]
          },
          "metadata": {},
          "execution_count": 1
        }
      ]
    },
    {
      "cell_type": "markdown",
      "source": [
        "32).Write a code to access the second-to-last element of the tuple ('red', 'green', 'blue', 'yellow')."
      ],
      "metadata": {
        "id": "PFnZJNOHtMua"
      }
    },
    {
      "cell_type": "code",
      "source": [
        "my_tuple = ('red', 'green', 'blue', 'yellow')\n",
        "my_tuple[-2]"
      ],
      "metadata": {
        "colab": {
          "base_uri": "https://localhost:8080/",
          "height": 36
        },
        "id": "7zOUneMjtQcs",
        "outputId": "621ae39c-ae0a-4db9-c8ec-8e1b8f1618a0"
      },
      "execution_count": null,
      "outputs": [
        {
          "output_type": "execute_result",
          "data": {
            "text/plain": [
              "'blue'"
            ],
            "application/vnd.google.colaboratory.intrinsic+json": {
              "type": "string"
            }
          },
          "metadata": {},
          "execution_count": 2
        }
      ]
    },
    {
      "cell_type": "markdown",
      "source": [
        "33).Write a code to find the minimum number in the tuple (10, 20, 5, 15)."
      ],
      "metadata": {
        "id": "BTt1_rIhtROm"
      }
    },
    {
      "cell_type": "code",
      "source": [
        "my_tuple = (10,20,5,15)\n",
        "min(my_tuple)"
      ],
      "metadata": {
        "colab": {
          "base_uri": "https://localhost:8080/"
        },
        "id": "_aJT4pTutWr4",
        "outputId": "998e9664-a459-445a-9636-218e8b023898"
      },
      "execution_count": null,
      "outputs": [
        {
          "output_type": "execute_result",
          "data": {
            "text/plain": [
              "5"
            ]
          },
          "metadata": {},
          "execution_count": 3
        }
      ]
    },
    {
      "cell_type": "markdown",
      "source": [
        "34). Write a code to find the index of the element \"cat\" in the tuple ('dog', 'cat', 'rabbit')."
      ],
      "metadata": {
        "id": "ZRaYOQpWtXH5"
      }
    },
    {
      "cell_type": "code",
      "source": [
        "my_tuple = ('dog', 'cat', 'rabbit')\n",
        "my_tuple.index('cat')"
      ],
      "metadata": {
        "colab": {
          "base_uri": "https://localhost:8080/"
        },
        "id": "6Zy3NJZatad4",
        "outputId": "f2dcb12f-a5bf-4347-bfbe-e2692932543a"
      },
      "execution_count": null,
      "outputs": [
        {
          "output_type": "execute_result",
          "data": {
            "text/plain": [
              "1"
            ]
          },
          "metadata": {},
          "execution_count": 4
        }
      ]
    },
    {
      "cell_type": "markdown",
      "source": [
        "35). Write a code to create a tuple containing three different fruits and check if \"kiwi\" is in it."
      ],
      "metadata": {
        "id": "hKsQUo50tbAk"
      }
    },
    {
      "cell_type": "code",
      "source": [
        "my_tuple = (\"apple\",\"banana\",\"kiwi\")\n",
        "\"kiwi\" in my_tuple"
      ],
      "metadata": {
        "colab": {
          "base_uri": "https://localhost:8080/"
        },
        "id": "h87_M6B_tfLI",
        "outputId": "a6a54b2f-2d7f-471d-a777-033578a7a067"
      },
      "execution_count": null,
      "outputs": [
        {
          "output_type": "execute_result",
          "data": {
            "text/plain": [
              "True"
            ]
          },
          "metadata": {},
          "execution_count": 5
        }
      ]
    },
    {
      "cell_type": "markdown",
      "source": [
        "36). Write a code to create a set with the elements 'a', 'b', 'c' and print it."
      ],
      "metadata": {
        "id": "IIFD8Ijptf0l"
      }
    },
    {
      "cell_type": "code",
      "source": [
        "set_a = {'a','b','c'}\n",
        "set_a"
      ],
      "metadata": {
        "colab": {
          "base_uri": "https://localhost:8080/"
        },
        "id": "ut9IRRsZtjq3",
        "outputId": "37ba4e8e-d417-4826-96b5-b55d593b4ca0"
      },
      "execution_count": null,
      "outputs": [
        {
          "output_type": "execute_result",
          "data": {
            "text/plain": [
              "{'a', 'b', 'c'}"
            ]
          },
          "metadata": {},
          "execution_count": 6
        }
      ]
    },
    {
      "cell_type": "markdown",
      "source": [
        "37). Write a code to clear all elements from the set {1, 2, 3, 4, 5}."
      ],
      "metadata": {
        "id": "H2kpZNnRtkOg"
      }
    },
    {
      "cell_type": "code",
      "source": [
        "my_set = {1,2,3,4,5}\n",
        "my_set.clear()\n",
        "my_set"
      ],
      "metadata": {
        "colab": {
          "base_uri": "https://localhost:8080/"
        },
        "id": "3p6CwB75tn8b",
        "outputId": "3c2f6623-1def-4191-94ea-b4b463456b16"
      },
      "execution_count": null,
      "outputs": [
        {
          "output_type": "execute_result",
          "data": {
            "text/plain": [
              "set()"
            ]
          },
          "metadata": {},
          "execution_count": 7
        }
      ]
    },
    {
      "cell_type": "markdown",
      "source": [
        "38).Write a code to remove the element 4 from the set {1, 2, 3, 4}."
      ],
      "metadata": {
        "id": "lcGxoolOtoeH"
      }
    },
    {
      "cell_type": "code",
      "source": [
        "set1 = {1,2,3,4}\n",
        "set1.remove(4)\n",
        "set1"
      ],
      "metadata": {
        "colab": {
          "base_uri": "https://localhost:8080/"
        },
        "id": "j0zOqm1ntstJ",
        "outputId": "c94129bf-b203-4dce-c311-5af729c4cf64"
      },
      "execution_count": null,
      "outputs": [
        {
          "output_type": "execute_result",
          "data": {
            "text/plain": [
              "{1, 2, 3}"
            ]
          },
          "metadata": {},
          "execution_count": 8
        }
      ]
    },
    {
      "cell_type": "markdown",
      "source": [
        "39).Write a code to find the union of two sets {1, 2, 3} and {3, 4, 5}."
      ],
      "metadata": {
        "id": "lf9tRyShttdU"
      }
    },
    {
      "cell_type": "code",
      "source": [
        "s1 = {1,2,3}\n",
        "s2 = {3,4,5}\n",
        "s1.union(s2)"
      ],
      "metadata": {
        "colab": {
          "base_uri": "https://localhost:8080/"
        },
        "id": "cu7ddT5wtxdH",
        "outputId": "6e947019-e859-4bb3-c8f7-ecdca5a0185c"
      },
      "execution_count": null,
      "outputs": [
        {
          "output_type": "execute_result",
          "data": {
            "text/plain": [
              "{1, 2, 3, 4, 5}"
            ]
          },
          "metadata": {},
          "execution_count": 9
        }
      ]
    },
    {
      "cell_type": "markdown",
      "source": [
        " 40).Write a code to find the intersection of two sets {1, 2, 3} and {2, 3, 4}."
      ],
      "metadata": {
        "id": "2vVZzvAFtywS"
      }
    },
    {
      "cell_type": "code",
      "source": [
        "s1 = {1,2,3}\n",
        "s2 = {2,3,4}\n",
        "s1.intersection(s2)"
      ],
      "metadata": {
        "colab": {
          "base_uri": "https://localhost:8080/"
        },
        "id": "vl7AWrF7t2vW",
        "outputId": "dab99690-967c-4f3b-ddd6-71d68b93daf1"
      },
      "execution_count": null,
      "outputs": [
        {
          "output_type": "execute_result",
          "data": {
            "text/plain": [
              "{2, 3}"
            ]
          },
          "metadata": {},
          "execution_count": 10
        }
      ]
    },
    {
      "cell_type": "markdown",
      "source": [
        "41). Write a code to create a dictionary with the keys \"name\", \"age\", and \"city\", and print it."
      ],
      "metadata": {
        "id": "jU49YjDQt31P"
      }
    },
    {
      "cell_type": "code",
      "source": [
        "s1 = {\"name\":\"ravi\",\"age\":23,\"city\":\"new delhi\"}\n",
        "s1"
      ],
      "metadata": {
        "colab": {
          "base_uri": "https://localhost:8080/"
        },
        "id": "cM8GxNbWt7Ir",
        "outputId": "bd1a418f-5918-4a63-9d83-7c08f7e7c8e5"
      },
      "execution_count": null,
      "outputs": [
        {
          "output_type": "execute_result",
          "data": {
            "text/plain": [
              "{'name': 'ravi', 'age': 23, 'city': 'new delhi'}"
            ]
          },
          "metadata": {},
          "execution_count": 12
        }
      ]
    },
    {
      "cell_type": "markdown",
      "source": [
        "42).Write a code to add a new key-value pair \"country\": \"USA\" to the dictionary {'name': 'John', 'age': 25}."
      ],
      "metadata": {
        "id": "PtG33oZEt70q"
      }
    },
    {
      "cell_type": "code",
      "source": [
        "my_dict = {'name': 'John', 'age': 25}\n",
        "my_dict[\"country\"] = \"USA\"\n",
        "my_dict"
      ],
      "metadata": {
        "colab": {
          "base_uri": "https://localhost:8080/"
        },
        "id": "zkOj-lozt_Jd",
        "outputId": "78dd997c-2deb-4004-ad83-bc81d18e7d77"
      },
      "execution_count": null,
      "outputs": [
        {
          "output_type": "execute_result",
          "data": {
            "text/plain": [
              "{'name': 'John', 'age': 25, 'country': 'USA'}"
            ]
          },
          "metadata": {},
          "execution_count": 13
        }
      ]
    },
    {
      "cell_type": "markdown",
      "source": [
        "43). Write a code to access the value associated with the key \"name\" in the dictionary {'name': 'Alice', 'age': 30}."
      ],
      "metadata": {
        "id": "Um2KMKeZt_p7"
      }
    },
    {
      "cell_type": "code",
      "source": [
        "my_dict = {'name': 'Alice', 'age': 30}\n",
        "my_dict[\"name\"]"
      ],
      "metadata": {
        "colab": {
          "base_uri": "https://localhost:8080/",
          "height": 36
        },
        "id": "LU1gnwfbuC2s",
        "outputId": "c8c3679b-4e6f-48df-9a10-a08432e7e2ad"
      },
      "execution_count": null,
      "outputs": [
        {
          "output_type": "execute_result",
          "data": {
            "text/plain": [
              "'Alice'"
            ],
            "application/vnd.google.colaboratory.intrinsic+json": {
              "type": "string"
            }
          },
          "metadata": {},
          "execution_count": 14
        }
      ]
    },
    {
      "cell_type": "markdown",
      "source": [
        "44).Write a code to remove the key \"age\" from the dictionary {'name': 'Bob', 'age': 22, 'city': 'New York'}."
      ],
      "metadata": {
        "id": "U7AfOWWLuDhz"
      }
    },
    {
      "cell_type": "code",
      "source": [
        "my_dict = {'name': 'Bob', 'age': 22, 'city': 'New York'}\n",
        "my_dict.pop(\"age\")\n",
        "my_dict"
      ],
      "metadata": {
        "colab": {
          "base_uri": "https://localhost:8080/"
        },
        "id": "eYst7pY6uH-u",
        "outputId": "62afd949-19f6-4d64-cc20-d67dedfb50dd"
      },
      "execution_count": null,
      "outputs": [
        {
          "output_type": "execute_result",
          "data": {
            "text/plain": [
              "{'name': 'Bob', 'city': 'New York'}"
            ]
          },
          "metadata": {},
          "execution_count": 15
        }
      ]
    },
    {
      "cell_type": "markdown",
      "source": [
        "45). Write a code to check if the key \"city\" exists in the dictionary {'name': 'Alice', 'city': 'Paris'}."
      ],
      "metadata": {
        "id": "sla95J5GuIk8"
      }
    },
    {
      "cell_type": "code",
      "source": [
        "dict1 = {'name': 'Alice', 'city': 'Paris'}\n",
        "\"city\" in dict1"
      ],
      "metadata": {
        "colab": {
          "base_uri": "https://localhost:8080/"
        },
        "id": "6gVbAVl0uL1y",
        "outputId": "c98be7ee-0be1-4edf-c6cf-1844dfd6d3d6"
      },
      "execution_count": null,
      "outputs": [
        {
          "output_type": "execute_result",
          "data": {
            "text/plain": [
              "True"
            ]
          },
          "metadata": {},
          "execution_count": 16
        }
      ]
    },
    {
      "cell_type": "markdown",
      "source": [
        "46). Write a code to create a list, a tuple, and a dictionary, and print them all."
      ],
      "metadata": {
        "id": "8Z4maZ4_uMjS"
      }
    },
    {
      "cell_type": "code",
      "source": [
        "a = [1,2,3,4]\n",
        "b = (1,2,3,4)\n",
        "c = {\"name\":\"ravi\",\"age\":23}\n",
        "print(a)\n",
        "print(b)\n",
        "print(c)"
      ],
      "metadata": {
        "colab": {
          "base_uri": "https://localhost:8080/"
        },
        "id": "KLnKMN5CuPkw",
        "outputId": "92642302-360d-4bb9-86d3-225749c0405a"
      },
      "execution_count": null,
      "outputs": [
        {
          "output_type": "stream",
          "name": "stdout",
          "text": [
            "[1, 2, 3, 4]\n",
            "(1, 2, 3, 4)\n",
            "{'name': 'ravi', 'age': 23}\n"
          ]
        }
      ]
    },
    {
      "cell_type": "markdown",
      "source": [
        "47). Write a code to create a list of 5 random numbers between 1 and 100, sort it in ascending order, and print the\n",
        "result.(replaced)."
      ],
      "metadata": {
        "id": "QQyxq3pkuQDN"
      }
    },
    {
      "cell_type": "code",
      "source": [
        "my_list = [1,2,3,4,5]\n",
        "my_list.sort()\n",
        "my_list"
      ],
      "metadata": {
        "colab": {
          "base_uri": "https://localhost:8080/"
        },
        "id": "SiAKIH4ouTbz",
        "outputId": "039d7785-2603-4dfa-9fed-2fedc57c7d49"
      },
      "execution_count": null,
      "outputs": [
        {
          "output_type": "execute_result",
          "data": {
            "text/plain": [
              "[1, 2, 3, 4, 5]"
            ]
          },
          "metadata": {},
          "execution_count": 18
        }
      ]
    },
    {
      "cell_type": "markdown",
      "source": [
        "48). Write a code to create a list with strings and print the element at the third index."
      ],
      "metadata": {
        "id": "WrU_iMaGuUMx"
      }
    },
    {
      "cell_type": "code",
      "source": [
        "my_list = [\"ravi\",\"sanju\",\"kumar\",\"tanti\"]\n",
        "my_list[2]"
      ],
      "metadata": {
        "colab": {
          "base_uri": "https://localhost:8080/",
          "height": 36
        },
        "id": "5xHQmNQbuXLL",
        "outputId": "94276038-a0e8-4138-89c2-2bc769851832"
      },
      "execution_count": null,
      "outputs": [
        {
          "output_type": "execute_result",
          "data": {
            "text/plain": [
              "'kumar'"
            ],
            "application/vnd.google.colaboratory.intrinsic+json": {
              "type": "string"
            }
          },
          "metadata": {},
          "execution_count": 20
        }
      ]
    },
    {
      "cell_type": "markdown",
      "source": [
        "49).Write a code to combine two dictionaries into one and print the result."
      ],
      "metadata": {
        "id": "l4fbmS90uX1i"
      }
    },
    {
      "cell_type": "code",
      "source": [
        "dict1 = {\"name\":\"ravi\",\"age\":23}\n",
        "dict2 = {\"city\":\"new delhi\",\"country\":\"india\"}\n",
        "dict1.update(dict2)\n",
        "dict1"
      ],
      "metadata": {
        "colab": {
          "base_uri": "https://localhost:8080/"
        },
        "id": "XWsGRSQ2ucLL",
        "outputId": "e3d30086-c2d2-4f56-df3e-cb8ebf85b6fa"
      },
      "execution_count": null,
      "outputs": [
        {
          "output_type": "execute_result",
          "data": {
            "text/plain": [
              "{'name': 'ravi', 'age': 23, 'city': 'new delhi', 'country': 'india'}"
            ]
          },
          "metadata": {},
          "execution_count": 21
        }
      ]
    },
    {
      "cell_type": "markdown",
      "source": [
        "50). Write a code to convert a list of strings into a set."
      ],
      "metadata": {
        "id": "66-zySxMucw2"
      }
    },
    {
      "cell_type": "code",
      "source": [
        "my_list = [\"ravi\",\"sanju\",\"kumar\",\"tanti\"]\n",
        "set(my_list)"
      ],
      "metadata": {
        "colab": {
          "base_uri": "https://localhost:8080/"
        },
        "id": "oLH6d9Pfug5Z",
        "outputId": "4c6ef769-1846-4d7c-907d-5561753a716d"
      },
      "execution_count": null,
      "outputs": [
        {
          "output_type": "execute_result",
          "data": {
            "text/plain": [
              "{'kumar', 'ravi', 'sanju', 'tanti'}"
            ]
          },
          "metadata": {},
          "execution_count": 22
        }
      ]
    },
    {
      "cell_type": "code",
      "source": [],
      "metadata": {
        "id": "1ETJdjeyv_IK"
      },
      "execution_count": null,
      "outputs": []
    }
  ]
}